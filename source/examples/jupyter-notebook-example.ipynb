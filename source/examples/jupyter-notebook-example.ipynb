{
 "cells": [
  {
   "cell_type": "markdown",
   "metadata": {},
   "source": [
    "# Jupyter Notebook Example\n",
    "\n",
    "This page was generated from a Jupyter Notebook. All code gets executed when the\n",
    "page is generated and the outputs are included There is also an option to make\n",
    "pages containing code interactive by configuring a suitable Binder backend."
   ]
  },
  {
   "cell_type": "code",
   "execution_count": null,
   "metadata": {},
   "outputs": [],
   "source": [
    "import this\n"
   ]
  }
 ],
 "metadata": {
  "language_info": {
   "name": "python"
  }
 },
 "nbformat": 4,
 "nbformat_minor": 2
}
